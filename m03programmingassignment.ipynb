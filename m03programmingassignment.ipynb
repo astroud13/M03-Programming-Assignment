{
 "cells": [
  {
   "cell_type": "code",
   "execution_count": 1,
   "id": "ebdf6f00-fa76-4ae4-9f5e-6b4857cf4971",
   "metadata": {},
   "outputs": [
    {
     "name": "stdout",
     "output_type": "stream",
     "text": [
      "['mozzarella', 'cinderella', 'salmonella']\n",
      "['mozzarella', 'Cinderella', 'salmonella']\n",
      "['MOZZARELLA', 'Cinderella', 'salmonella']\n",
      "['MOZZARELLA', 'Cinderella']\n",
      "['Harry', 'Ron', 'Hermione']\n",
      "The third odd number is: 5\n"
     ]
    }
   ],
   "source": [
    "#SDEV220 \n",
    "#Module 3 Programming Assignment - Lists and Functions\n",
    "#Created by Austin Stroud \n",
    "\n",
    "#7.4\n",
    "#Create list called 'things' \n",
    "things = [\"mozzarella\", \"cinderella\", \"salmonella\"]\n",
    "\n",
    "#Print list\n",
    "print(things)\n",
    "\n",
    "#7.5 part 1\n",
    "#Capitalize the element in 'things' that refers to a person. \n",
    "things[1] = things[1].capitalize()\n",
    "\n",
    "#Print new list\n",
    "print(things)\n",
    "\n",
    "#7.5 part 2\n",
    "#Yes, Cinderella was capitalized in the new list. \n",
    "\n",
    "#7.6\n",
    "#Make cheese element of 'things' all uppercase.\n",
    "things[0] = things[0].upper()\n",
    "\n",
    "#Print new list\n",
    "print(things)\n",
    "\n",
    "#7.7\n",
    "#Delete disease element from 'things.'\n",
    "things.remove(\"salmonella\")\n",
    "\n",
    "#Print new list\n",
    "print(things)\n",
    "\n",
    "#9.1\n",
    "#Define the good function and return a list of names. \n",
    "def good():\n",
    "#Return list with the names 'Harry', 'Ron', and 'Hermione'\n",
    "    return ['Harry', 'Ron', 'Hermione']  \n",
    "    #Call function to get list\n",
    "names_list = good()\n",
    "#Print returned list\n",
    "print(names_list)\n",
    "\n",
    "#9.2\n",
    "#Define the get_odds function \n",
    "def get_odds():\n",
    "     #Iterate through range of numbers from 1 to 10\n",
    "        for number in range(1, 10):\n",
    "        #Check if number is odd\n",
    "            if number % 2 != 0:\n",
    "            #Yield odd number\n",
    "                yield number  \n",
    "\n",
    "#Use for loop to find and print the third value.\n",
    "count = 0\n",
    "for value in get_odds():\n",
    "    #Iterate through odd numbers returned by the generator\n",
    "    count += 1\n",
    "    if count == 3:\n",
    "        #Check if the third value\n",
    "        print(\"The third odd number is:\", value)  #Print third odd number\n",
    "        break  #Exit loop after printing third value"
   ]
  },
  {
   "cell_type": "code",
   "execution_count": null,
   "id": "67a2be7e-4d13-47bb-adee-c68b6015e932",
   "metadata": {},
   "outputs": [],
   "source": []
  }
 ],
 "metadata": {
  "kernelspec": {
   "display_name": "Python 3 (ipykernel)",
   "language": "python",
   "name": "python3"
  },
  "language_info": {
   "codemirror_mode": {
    "name": "ipython",
    "version": 3
   },
   "file_extension": ".py",
   "mimetype": "text/x-python",
   "name": "python",
   "nbconvert_exporter": "python",
   "pygments_lexer": "ipython3",
   "version": "3.11.7"
  }
 },
 "nbformat": 4,
 "nbformat_minor": 5
}
